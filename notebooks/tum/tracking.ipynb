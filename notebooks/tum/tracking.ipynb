{
 "cells": [
  {
   "cell_type": "code",
   "execution_count": null,
   "id": "72f3cef4-2bb7-4f9d-b025-213fddfc5bca",
   "metadata": {},
   "outputs": [],
   "source": [
    "%load_ext autoreload\n",
    "%autoreload 2\n",
    "\n",
    "from IPython.display import clear_output\n",
    "from tqdm.notebook import tqdm\n",
    "import os\n",
    "from pathlib import Path\n",
    "\n",
    "import torch\n",
    "import numpy as np\n",
    "\n",
    "import cv2\n",
    "import matplotlib.pyplot as plt"
   ]
  },
  {
   "cell_type": "code",
   "execution_count": null,
   "id": "e0a09a2c-45e7-4859-9c12-ba810e70d6f7",
   "metadata": {},
   "outputs": [],
   "source": [
    "PYTHON_PATHS = [\"../..\"]\n",
    "import sys\n",
    "for path in PYTHON_PATHS:\n",
    "    if path not in sys.path:\n",
    "        sys.path.append(path)\n",
    "        \n",
    "\n",
    "from imap.utils import UniversalFactory\n",
    "from pytorch_lightning.utilities.parsing import AttributeDict\n",
    "from imap.data.datasets.tum.tum_dataset_loader_factory import TUMDatasetLoaderFactory\n",
    "from imap.model.nerf import NERF\n",
    "from imap.model.embeddings.gaussian_positional_encoding import GaussianPositionalEncoding\n",
    "from imap.trainers.trainers import ModelTrainer\n",
    "from imap.model.active_sampling.image_active_sampling import ImageActiveSampling\n",
    "from imap.utils.utils import *"
   ]
  },
  {
   "cell_type": "markdown",
   "id": "0706fd15-6d2b-4f65-bcd3-e84844009da6",
   "metadata": {},
   "source": [
    "# Train on 1 image"
   ]
  },
  {
   "cell_type": "code",
   "execution_count": null,
   "id": "de8a9c6b-b18b-49bb-bdd4-40a79c806d55",
   "metadata": {},
   "outputs": [],
   "source": [
    "dataset_params = {'dataset_path': \"../../tests/datasets/tum rgbd/\", \n",
    "                  'scene_name': \"rgbd_dataset_freiburg1_desk\", \n",
    "                  'association_file_name': \"data_association_file.txt\", \n",
    "                  'frame_indices': [407],\n",
    "                  'distance_koef': 0.1,\n",
    "                  'clip_distance_threshold': 4.}\n",
    "camera, dataset_loader = TUMDatasetLoaderFactory.make_dataset_loader(**dataset_params)"
   ]
  },
  {
   "cell_type": "code",
   "execution_count": null,
   "id": "bd10928d-e131-4cb0-936b-60032e508f38",
   "metadata": {},
   "outputs": [],
   "source": [
    "model_parameters = AttributeDict(\n",
    "    name=\"NERF\",\n",
    "    course_sample_bins=32,\n",
    "    fine_sample_bins=12,\n",
    "    depth_loss_koef=1.,\n",
    "    color_loss_koef=5.,\n",
    "    minimal_depth=0.01,\n",
    "    positional_embedding = AttributeDict(\n",
    "                                        name = 'GaussianPositionalEncoding',\n",
    "                                        encoding_dimension=92,\n",
    "                                        sigma=25,\n",
    "                                        use_only_sin=True\n",
    "                                        )\n",
    ")\n",
    "\n",
    "factory = UniversalFactory([NERF, GaussianPositionalEncoding])\n",
    "model = factory.make_from_parameters(model_parameters, camera_info=camera)"
   ]
  },
  {
   "cell_type": "markdown",
   "id": "0faeda9a-88ad-4c4c-b690-8e8e3f7c12b5",
   "metadata": {},
   "source": [
    "## Track a few images"
   ]
  },
  {
   "cell_type": "code",
   "execution_count": 1,
   "id": "4aa4459f-8d95-4353-98cb-6edd183c9b61",
   "metadata": {},
   "outputs": [
    {
     "ename": "NameError",
     "evalue": "name 'np' is not defined",
     "output_type": "error",
     "traceback": [
      "\u001b[0;31m---------------------------------------------------------------------------\u001b[0m",
      "\u001b[0;31mNameError\u001b[0m                                 Traceback (most recent call last)",
      "\u001b[0;32m<ipython-input-1-4815c8dece9e>\u001b[0m in \u001b[0;36m<module>\u001b[0;34m\u001b[0m\n\u001b[1;32m      2\u001b[0m                   \u001b[0;34m'scene_name'\u001b[0m\u001b[0;34m:\u001b[0m \u001b[0;34m\"rgbd_dataset_freiburg1_desk\"\u001b[0m\u001b[0;34m,\u001b[0m\u001b[0;34m\u001b[0m\u001b[0;34m\u001b[0m\u001b[0m\n\u001b[1;32m      3\u001b[0m                   \u001b[0;34m'association_file_name'\u001b[0m\u001b[0;34m:\u001b[0m \u001b[0;34m\"data_association_file.txt\"\u001b[0m\u001b[0;34m,\u001b[0m\u001b[0;34m\u001b[0m\u001b[0;34m\u001b[0m\u001b[0m\n\u001b[0;32m----> 4\u001b[0;31m                   \u001b[0;34m'frame_indices'\u001b[0m\u001b[0;34m:\u001b[0m \u001b[0;34m[\u001b[0m\u001b[0mnp\u001b[0m\u001b[0;34m.\u001b[0m\u001b[0marange\u001b[0m\u001b[0;34m(\u001b[0m\u001b[0;36m10\u001b[0m\u001b[0;34m)\u001b[0m\u001b[0;34m]\u001b[0m\u001b[0;34m,\u001b[0m\u001b[0;34m\u001b[0m\u001b[0;34m\u001b[0m\u001b[0m\n\u001b[0m\u001b[1;32m      5\u001b[0m                   \u001b[0;34m'distance_koef'\u001b[0m\u001b[0;34m:\u001b[0m \u001b[0;36m0.1\u001b[0m\u001b[0;34m,\u001b[0m\u001b[0;34m\u001b[0m\u001b[0;34m\u001b[0m\u001b[0m\n\u001b[1;32m      6\u001b[0m                   'clip_distance_threshold': 4.}\n",
      "\u001b[0;31mNameError\u001b[0m: name 'np' is not defined"
     ]
    }
   ],
   "source": [
    "dataset_params = {'dataset_path': \"../../tests/datasets/tum rgbd/\", \n",
    "                  'scene_name': \"rgbd_dataset_freiburg1_desk\", \n",
    "                  'association_file_name': \"data_association_file.txt\", \n",
    "                  'frame_indices': [np.arange(40)],\n",
    "                  'distance_koef': 0.1,\n",
    "                  'clip_distance_threshold': 4.}\n",
    "camera, tracking_dataset_loader = TUMDatasetLoaderFactory.make_dataset_loader(**dataset_params)"
   ]
  },
  {
   "cell_type": "code",
   "execution_count": null,
   "id": "f2f16b75-b84d-45d5-9e1e-91bd0e02547d",
   "metadata": {},
   "outputs": [],
   "source": []
  }
 ],
 "metadata": {
  "kernelspec": {
   "display_name": "Python 3",
   "language": "python",
   "name": "python3"
  },
  "language_info": {
   "codemirror_mode": {
    "name": "ipython",
    "version": 3
   },
   "file_extension": ".py",
   "mimetype": "text/x-python",
   "name": "python",
   "nbconvert_exporter": "python",
   "pygments_lexer": "ipython3",
   "version": "3.8.12"
  }
 },
 "nbformat": 4,
 "nbformat_minor": 5
}
